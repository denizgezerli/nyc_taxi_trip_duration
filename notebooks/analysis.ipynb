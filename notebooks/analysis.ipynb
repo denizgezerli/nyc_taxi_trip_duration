{
 "cells": [
  {
   "cell_type": "code",
   "execution_count": 1,
   "metadata": {},
   "outputs": [],
   "source": [
    "import numpy as np\n",
    "import pandas as pd\n",
    "import ipdb\n",
    "import matplotlib.pyplot as plt\n",
    "import seaborn as sns\n",
    "from math import radians, sin, cos, asin, sqrt\n",
    "from sklearn.cluster import KMeans\n",
    "from sklearn.model_selection import train_test_split\n",
    "import xgboost as xgb"
   ]
  },
  {
   "cell_type": "code",
   "execution_count": 2,
   "metadata": {},
   "outputs": [
    {
     "name": "stderr",
     "output_type": "stream",
     "text": [
      "C:\\Users\\o.gezerli\\AppData\\Local\\Temp\\ipykernel_20496\\2661988154.py:2: DtypeWarning: Columns (8) have mixed types. Specify dtype option on import or set low_memory=False.\n",
      "  train_df = pd.read_csv(r'C:\\Users\\o.gezerli\\OneDrive - FlixBus GmbH (B2E B2B) - Prod\\Desktop\\code_projects\\nyc_taxi_trip_duration_python\\nyc_taxi_trip_duration\\data\\train.csv',on_bad_lines='skip')\n"
     ]
    },
    {
     "data": {
      "text/html": [
       "<div>\n",
       "<style scoped>\n",
       "    .dataframe tbody tr th:only-of-type {\n",
       "        vertical-align: middle;\n",
       "    }\n",
       "\n",
       "    .dataframe tbody tr th {\n",
       "        vertical-align: top;\n",
       "    }\n",
       "\n",
       "    .dataframe thead th {\n",
       "        text-align: right;\n",
       "    }\n",
       "</style>\n",
       "<table border=\"1\" class=\"dataframe\">\n",
       "  <thead>\n",
       "    <tr style=\"text-align: right;\">\n",
       "      <th></th>\n",
       "      <th>id</th>\n",
       "      <th>vendor_id</th>\n",
       "      <th>pickup_datetime</th>\n",
       "      <th>dropoff_datetime</th>\n",
       "      <th>passenger_count</th>\n",
       "      <th>pickup_longitude</th>\n",
       "      <th>pickup_latitude</th>\n",
       "      <th>dropoff_longitude</th>\n",
       "      <th>dropoff_latitude</th>\n",
       "      <th>store_and_fwd_flag</th>\n",
       "      <th>trip_duration</th>\n",
       "    </tr>\n",
       "  </thead>\n",
       "  <tbody>\n",
       "    <tr>\n",
       "      <th>0</th>\n",
       "      <td>id2875421</td>\n",
       "      <td>2</td>\n",
       "      <td>2016-03-14 17:24:55</td>\n",
       "      <td>2016-03-14 17:32:30</td>\n",
       "      <td>1</td>\n",
       "      <td>-73.982155</td>\n",
       "      <td>40.767937</td>\n",
       "      <td>-73.964630</td>\n",
       "      <td>40.765602</td>\n",
       "      <td>N</td>\n",
       "      <td>455.0</td>\n",
       "    </tr>\n",
       "    <tr>\n",
       "      <th>1</th>\n",
       "      <td>id2377394</td>\n",
       "      <td>1</td>\n",
       "      <td>2016-06-12 00:43:35</td>\n",
       "      <td>2016-06-12 00:54:38</td>\n",
       "      <td>1</td>\n",
       "      <td>-73.980415</td>\n",
       "      <td>40.738564</td>\n",
       "      <td>-73.999481</td>\n",
       "      <td>40.731152</td>\n",
       "      <td>N</td>\n",
       "      <td>663.0</td>\n",
       "    </tr>\n",
       "    <tr>\n",
       "      <th>2</th>\n",
       "      <td>id3858529</td>\n",
       "      <td>2</td>\n",
       "      <td>2016-01-19 11:35:24</td>\n",
       "      <td>2016-01-19 12:10:48</td>\n",
       "      <td>1</td>\n",
       "      <td>-73.979027</td>\n",
       "      <td>40.763939</td>\n",
       "      <td>-74.005333</td>\n",
       "      <td>40.710087</td>\n",
       "      <td>N</td>\n",
       "      <td>2124.0</td>\n",
       "    </tr>\n",
       "    <tr>\n",
       "      <th>3</th>\n",
       "      <td>id3504673</td>\n",
       "      <td>2</td>\n",
       "      <td>2016-04-06 19:32:31</td>\n",
       "      <td>2016-04-06 19:39:40</td>\n",
       "      <td>1</td>\n",
       "      <td>-74.010040</td>\n",
       "      <td>40.719971</td>\n",
       "      <td>-74.012268</td>\n",
       "      <td>40.706718</td>\n",
       "      <td>N</td>\n",
       "      <td>429.0</td>\n",
       "    </tr>\n",
       "    <tr>\n",
       "      <th>4</th>\n",
       "      <td>id2181028</td>\n",
       "      <td>2</td>\n",
       "      <td>2016-03-26 13:30:55</td>\n",
       "      <td>2016-03-26 13:38:10</td>\n",
       "      <td>1</td>\n",
       "      <td>-73.973053</td>\n",
       "      <td>40.793209</td>\n",
       "      <td>-73.972923</td>\n",
       "      <td>40.78252</td>\n",
       "      <td>N</td>\n",
       "      <td>435.0</td>\n",
       "    </tr>\n",
       "  </tbody>\n",
       "</table>\n",
       "</div>"
      ],
      "text/plain": [
       "          id  vendor_id      pickup_datetime     dropoff_datetime   \n",
       "0  id2875421          2  2016-03-14 17:24:55  2016-03-14 17:32:30  \\\n",
       "1  id2377394          1  2016-06-12 00:43:35  2016-06-12 00:54:38   \n",
       "2  id3858529          2  2016-01-19 11:35:24  2016-01-19 12:10:48   \n",
       "3  id3504673          2  2016-04-06 19:32:31  2016-04-06 19:39:40   \n",
       "4  id2181028          2  2016-03-26 13:30:55  2016-03-26 13:38:10   \n",
       "\n",
       "   passenger_count  pickup_longitude  pickup_latitude  dropoff_longitude   \n",
       "0                1        -73.982155        40.767937         -73.964630  \\\n",
       "1                1        -73.980415        40.738564         -73.999481   \n",
       "2                1        -73.979027        40.763939         -74.005333   \n",
       "3                1        -74.010040        40.719971         -74.012268   \n",
       "4                1        -73.973053        40.793209         -73.972923   \n",
       "\n",
       "  dropoff_latitude store_and_fwd_flag  trip_duration  \n",
       "0        40.765602                  N          455.0  \n",
       "1        40.731152                  N          663.0  \n",
       "2        40.710087                  N         2124.0  \n",
       "3        40.706718                  N          429.0  \n",
       "4         40.78252                  N          435.0  "
      ]
     },
     "execution_count": 2,
     "metadata": {},
     "output_type": "execute_result"
    }
   ],
   "source": [
    "\n",
    "# Load the training dataset\n",
    "train_df = pd.read_csv(r'C:\\Users\\o.gezerli\\OneDrive - FlixBus GmbH (B2E B2B) - Prod\\Desktop\\code_projects\\nyc_taxi_trip_duration_python\\nyc_taxi_trip_duration\\data\\train.csv',on_bad_lines='skip')\n",
    "# Print the first 5 rows of the dataset\n",
    "train_df.head()\n"
   ]
  },
  {
   "cell_type": "code",
   "execution_count": 3,
   "metadata": {},
   "outputs": [],
   "source": [
    "test_df = pd.read_csv(r'C:\\Users\\o.gezerli\\OneDrive - FlixBus GmbH (B2E B2B) - Prod\\Desktop\\code_projects\\nyc_taxi_trip_duration_python\\nyc_taxi_trip_duration\\data\\test.csv')\n"
   ]
  },
  {
   "cell_type": "code",
   "execution_count": 4,
   "metadata": {},
   "outputs": [
    {
     "name": "stdout",
     "output_type": "stream",
     "text": [
      "<class 'pandas.core.frame.DataFrame'>\n",
      "RangeIndex: 930061 entries, 0 to 930060\n",
      "Data columns (total 11 columns):\n",
      " #   Column              Non-Null Count   Dtype  \n",
      "---  ------              --------------   -----  \n",
      " 0   id                  930061 non-null  object \n",
      " 1   vendor_id           930061 non-null  int64  \n",
      " 2   pickup_datetime     930061 non-null  object \n",
      " 3   dropoff_datetime    930061 non-null  object \n",
      " 4   passenger_count     930061 non-null  int64  \n",
      " 5   pickup_longitude    930061 non-null  float64\n",
      " 6   pickup_latitude     930061 non-null  float64\n",
      " 7   dropoff_longitude   930061 non-null  float64\n",
      " 8   dropoff_latitude    930061 non-null  object \n",
      " 9   store_and_fwd_flag  930060 non-null  object \n",
      " 10  trip_duration       930060 non-null  float64\n",
      "dtypes: float64(4), int64(2), object(5)\n",
      "memory usage: 78.1+ MB\n"
     ]
    }
   ],
   "source": [
    "train_df.info()"
   ]
  },
  {
   "cell_type": "code",
   "execution_count": 5,
   "metadata": {},
   "outputs": [
    {
     "data": {
      "text/html": [
       "<div>\n",
       "<style scoped>\n",
       "    .dataframe tbody tr th:only-of-type {\n",
       "        vertical-align: middle;\n",
       "    }\n",
       "\n",
       "    .dataframe tbody tr th {\n",
       "        vertical-align: top;\n",
       "    }\n",
       "\n",
       "    .dataframe thead th {\n",
       "        text-align: right;\n",
       "    }\n",
       "</style>\n",
       "<table border=\"1\" class=\"dataframe\">\n",
       "  <thead>\n",
       "    <tr style=\"text-align: right;\">\n",
       "      <th></th>\n",
       "      <th>vendor_id</th>\n",
       "      <th>passenger_count</th>\n",
       "      <th>pickup_longitude</th>\n",
       "      <th>pickup_latitude</th>\n",
       "      <th>dropoff_longitude</th>\n",
       "      <th>trip_duration</th>\n",
       "    </tr>\n",
       "  </thead>\n",
       "  <tbody>\n",
       "    <tr>\n",
       "      <th>count</th>\n",
       "      <td>930061.000000</td>\n",
       "      <td>930061.000000</td>\n",
       "      <td>930061.000000</td>\n",
       "      <td>930061.000000</td>\n",
       "      <td>930061.000000</td>\n",
       "      <td>930060.000000</td>\n",
       "    </tr>\n",
       "    <tr>\n",
       "      <th>mean</th>\n",
       "      <td>1.508762</td>\n",
       "      <td>1.605882</td>\n",
       "      <td>-73.975191</td>\n",
       "      <td>40.743919</td>\n",
       "      <td>-73.976606</td>\n",
       "      <td>905.496964</td>\n",
       "    </tr>\n",
       "    <tr>\n",
       "      <th>std</th>\n",
       "      <td>0.499923</td>\n",
       "      <td>1.263716</td>\n",
       "      <td>0.046321</td>\n",
       "      <td>0.035696</td>\n",
       "      <td>0.027408</td>\n",
       "      <td>1640.152951</td>\n",
       "    </tr>\n",
       "    <tr>\n",
       "      <th>min</th>\n",
       "      <td>1.000000</td>\n",
       "      <td>0.000000</td>\n",
       "      <td>-77.896019</td>\n",
       "      <td>37.777771</td>\n",
       "      <td>-77.896019</td>\n",
       "      <td>1.000000</td>\n",
       "    </tr>\n",
       "    <tr>\n",
       "      <th>25%</th>\n",
       "      <td>1.000000</td>\n",
       "      <td>1.000000</td>\n",
       "      <td>-73.998734</td>\n",
       "      <td>40.724667</td>\n",
       "      <td>-73.991180</td>\n",
       "      <td>413.000000</td>\n",
       "    </tr>\n",
       "    <tr>\n",
       "      <th>50%</th>\n",
       "      <td>2.000000</td>\n",
       "      <td>1.000000</td>\n",
       "      <td>-73.986832</td>\n",
       "      <td>40.745327</td>\n",
       "      <td>-73.978989</td>\n",
       "      <td>802.000000</td>\n",
       "    </tr>\n",
       "    <tr>\n",
       "      <th>75%</th>\n",
       "      <td>2.000000</td>\n",
       "      <td>2.000000</td>\n",
       "      <td>-73.969620</td>\n",
       "      <td>40.769341</td>\n",
       "      <td>-73.965775</td>\n",
       "      <td>1156.000000</td>\n",
       "    </tr>\n",
       "    <tr>\n",
       "      <th>max</th>\n",
       "      <td>2.000000</td>\n",
       "      <td>6.000000</td>\n",
       "      <td>-72.809669</td>\n",
       "      <td>51.881084</td>\n",
       "      <td>-72.711395</td>\n",
       "      <td>86390.000000</td>\n",
       "    </tr>\n",
       "  </tbody>\n",
       "</table>\n",
       "</div>"
      ],
      "text/plain": [
       "           vendor_id  passenger_count  pickup_longitude  pickup_latitude   \n",
       "count  930061.000000    930061.000000     930061.000000    930061.000000  \\\n",
       "mean        1.508762         1.605882        -73.975191        40.743919   \n",
       "std         0.499923         1.263716          0.046321         0.035696   \n",
       "min         1.000000         0.000000        -77.896019        37.777771   \n",
       "25%         1.000000         1.000000        -73.998734        40.724667   \n",
       "50%         2.000000         1.000000        -73.986832        40.745327   \n",
       "75%         2.000000         2.000000        -73.969620        40.769341   \n",
       "max         2.000000         6.000000        -72.809669        51.881084   \n",
       "\n",
       "       dropoff_longitude  trip_duration  \n",
       "count      930061.000000  930060.000000  \n",
       "mean          -73.976606     905.496964  \n",
       "std             0.027408    1640.152951  \n",
       "min           -77.896019       1.000000  \n",
       "25%           -73.991180     413.000000  \n",
       "50%           -73.978989     802.000000  \n",
       "75%           -73.965775    1156.000000  \n",
       "max           -72.711395   86390.000000  "
      ]
     },
     "execution_count": 5,
     "metadata": {},
     "output_type": "execute_result"
    }
   ],
   "source": [
    "train_df.describe()\n"
   ]
  },
  {
   "cell_type": "code",
   "execution_count": 6,
   "metadata": {},
   "outputs": [],
   "source": [
    "train_df = train_df.dropna()"
   ]
  },
  {
   "cell_type": "code",
   "execution_count": 7,
   "metadata": {},
   "outputs": [
    {
     "data": {
      "text/plain": [
       "<Axes: ylabel='trip_duration'>"
      ]
     },
     "execution_count": 7,
     "metadata": {},
     "output_type": "execute_result"
    },
    {
     "data": {
      "image/png": "[encoded data removed]",
      "text/plain": [
       "<Figure size 800x600 with 1 Axes>"
      ]
     },
     "metadata": {},
     "output_type": "display_data"
    }
   ],
   "source": [
    "plt.figure(figsize=(8,6))\n",
    "sns.boxplot(y=train_df['trip_duration'])"
   ]
  },
  {
   "cell_type": "code",
   "execution_count": 8,
   "metadata": {},
   "outputs": [
    {
     "data": {
      "text/plain": [
       "(array([119818., 273147., 134139., 199543.,  78314.,  58974.,  18391.,\n",
       "         27854.,   2445.,   1652.]),\n",
       " array([1.0000e+00, 3.0080e+02, 6.0060e+02, 9.0040e+02, 1.2002e+03,\n",
       "        1.5000e+03, 1.7998e+03, 2.0996e+03, 2.3994e+03, 2.6992e+03,\n",
       "        2.9990e+03]),\n",
       " <BarContainer object of 10 artists>)"
      ]
     },
     "execution_count": 8,
     "metadata": {},
     "output_type": "execute_result"
    },
    {
     "data": {
      "image/png": "[encoded data removed]",
      "text/plain": [
       "<Figure size 640x480 with 1 Axes>"
      ]
     },
     "metadata": {},
     "output_type": "display_data"
    }
   ],
   "source": [
    "plt.hist(train_df[train_df['trip_duration'] < 3000]['trip_duration'])"
   ]
  },
  {
   "cell_type": "code",
   "execution_count": 9,
   "metadata": {},
   "outputs": [
    {
     "data": {
      "text/plain": [
       "413.0"
      ]
     },
     "execution_count": 9,
     "metadata": {},
     "output_type": "execute_result"
    }
   ],
   "source": [
    "train_df.trip_duration.quantile(0.25)"
   ]
  },
  {
   "cell_type": "code",
   "execution_count": 10,
   "metadata": {},
   "outputs": [
    {
     "data": {
      "text/plain": [
       "1156.0"
      ]
     },
     "execution_count": 10,
     "metadata": {},
     "output_type": "execute_result"
    }
   ],
   "source": [
    "train_df.trip_duration.quantile(0.75)"
   ]
  },
  {
   "cell_type": "code",
   "execution_count": 11,
   "metadata": {},
   "outputs": [],
   "source": [
    "# Define the upper and lower percentiles for outlier detection (e.g., 1st and 99th percentiles)\n",
    "lower_percentile = train_df['trip_duration'].quantile(0.01)\n",
    "upper_percentile = train_df['trip_duration'].quantile(0.99)\n",
    "\n",
    "# Identify outliers\n",
    "outliers = (train_df['trip_duration'] < lower_percentile) | (train_df['trip_duration'] > upper_percentile)\n",
    "\n",
    "# Remove outliers from the dataset\n",
    "train_df = train_df[~outliers]\n",
    "\n",
    "# Optionally, reset the index of the DataFrame\n",
    "train_df.reset_index(drop=True, inplace=True)\n"
   ]
  },
  {
   "cell_type": "code",
   "execution_count": 12,
   "metadata": {},
   "outputs": [
    {
     "data": {
      "text/plain": [
       "<Axes: ylabel='trip_duration'>"
      ]
     },
     "execution_count": 12,
     "metadata": {},
     "output_type": "execute_result"
    },
    {
     "data": {
      "image/png": "[encoded data removed]",
      "text/plain": [
       "<Figure size 800x600 with 1 Axes>"
      ]
     },
     "metadata": {},
     "output_type": "display_data"
    }
   ],
   "source": [
    "plt.figure(figsize=(8,6))\n",
    "sns.boxplot(y=train_df['trip_duration'])"
   ]
  },
  {
   "cell_type": "code",
   "execution_count": 13,
   "metadata": {},
   "outputs": [],
   "source": [
    "train_df['pickup_datetime'] = pd.to_datetime(train_df['pickup_datetime'])\n",
    "train_df['dropoff_datetime'] = pd.to_datetime(train_df['dropoff_datetime'])\n",
    "train_df['hour'] = train_df['pickup_datetime'].dt.hour\n",
    "train_df['dayofweek'] = train_df['pickup_datetime'].dt.dayofweek\n",
    "train_df['month'] = train_df['pickup_datetime'].dt.month"
   ]
  },
  {
   "cell_type": "code",
   "execution_count": 14,
   "metadata": {},
   "outputs": [],
   "source": [
    "train_df = train_df.drop(['pickup_datetime', 'dropoff_datetime'], axis = 1)"
   ]
  },
  {
   "cell_type": "code",
   "execution_count": 15,
   "metadata": {},
   "outputs": [
    {
     "name": "stdout",
     "output_type": "stream",
     "text": [
      "<class 'pandas.core.frame.DataFrame'>\n",
      "RangeIndex: 924334 entries, 0 to 924333\n",
      "Data columns (total 12 columns):\n",
      " #   Column              Non-Null Count   Dtype  \n",
      "---  ------              --------------   -----  \n",
      " 0   id                  924334 non-null  object \n",
      " 1   vendor_id           924334 non-null  int64  \n",
      " 2   passenger_count     924334 non-null  int64  \n",
      " 3   pickup_longitude    924334 non-null  float64\n",
      " 4   pickup_latitude     924334 non-null  float64\n",
      " 5   dropoff_longitude   924334 non-null  float64\n",
      " 6   dropoff_latitude    924334 non-null  object \n",
      " 7   store_and_fwd_flag  924334 non-null  object \n",
      " 8   trip_duration       924334 non-null  float64\n",
      " 9   hour                924334 non-null  int32  \n",
      " 10  dayofweek           924334 non-null  int32  \n",
      " 11  month               924334 non-null  int32  \n",
      "dtypes: float64(4), int32(3), int64(2), object(3)\n",
      "memory usage: 74.0+ MB\n"
     ]
    }
   ],
   "source": [
    "train_df.info()"
   ]
  },
  {
   "cell_type": "code",
   "execution_count": 16,
   "metadata": {},
   "outputs": [],
   "source": [
    "train_df['dropoff_latitude'] = train_df['dropoff_latitude'].astype('float64')\n",
    "train_df['store_and_fwd_flag'] = train_df['store_and_fwd_flag'] == 'Y'"
   ]
  },
  {
   "cell_type": "code",
   "execution_count": 17,
   "metadata": {},
   "outputs": [
    {
     "data": {
      "text/plain": [
       "array([False,  True])"
      ]
     },
     "execution_count": 17,
     "metadata": {},
     "output_type": "execute_result"
    }
   ],
   "source": [
    "train_df['store_and_fwd_flag'] .unique()"
   ]
  },
  {
   "cell_type": "code",
   "execution_count": 18,
   "metadata": {},
   "outputs": [],
   "source": [
    "train_df['vendor_id'] = train_df['vendor_id'].astype('category')"
   ]
  },
  {
   "cell_type": "code",
   "execution_count": 19,
   "metadata": {},
   "outputs": [
    {
     "data": {
      "text/html": [
       "<div>\n",
       "<style scoped>\n",
       "    .dataframe tbody tr th:only-of-type {\n",
       "        vertical-align: middle;\n",
       "    }\n",
       "\n",
       "    .dataframe tbody tr th {\n",
       "        vertical-align: top;\n",
       "    }\n",
       "\n",
       "    .dataframe thead th {\n",
       "        text-align: right;\n",
       "    }\n",
       "</style>\n",
       "<table border=\"1\" class=\"dataframe\">\n",
       "  <thead>\n",
       "    <tr style=\"text-align: right;\">\n",
       "      <th></th>\n",
       "      <th>id</th>\n",
       "      <th>vendor_id</th>\n",
       "      <th>passenger_count</th>\n",
       "      <th>pickup_longitude</th>\n",
       "      <th>pickup_latitude</th>\n",
       "      <th>dropoff_longitude</th>\n",
       "      <th>dropoff_latitude</th>\n",
       "      <th>store_and_fwd_flag</th>\n",
       "      <th>trip_duration</th>\n",
       "      <th>hour</th>\n",
       "      <th>dayofweek</th>\n",
       "      <th>month</th>\n",
       "    </tr>\n",
       "  </thead>\n",
       "  <tbody>\n",
       "    <tr>\n",
       "      <th>0</th>\n",
       "      <td>id2875421</td>\n",
       "      <td>2</td>\n",
       "      <td>1</td>\n",
       "      <td>-73.982155</td>\n",
       "      <td>40.767937</td>\n",
       "      <td>-73.964630</td>\n",
       "      <td>40.765602</td>\n",
       "      <td>False</td>\n",
       "      <td>455.0</td>\n",
       "      <td>17</td>\n",
       "      <td>0</td>\n",
       "      <td>3</td>\n",
       "    </tr>\n",
       "    <tr>\n",
       "      <th>1</th>\n",
       "      <td>id2377394</td>\n",
       "      <td>1</td>\n",
       "      <td>1</td>\n",
       "      <td>-73.980415</td>\n",
       "      <td>40.738564</td>\n",
       "      <td>-73.999481</td>\n",
       "      <td>40.731152</td>\n",
       "      <td>False</td>\n",
       "      <td>663.0</td>\n",
       "      <td>0</td>\n",
       "      <td>6</td>\n",
       "      <td>6</td>\n",
       "    </tr>\n",
       "    <tr>\n",
       "      <th>2</th>\n",
       "      <td>id3858529</td>\n",
       "      <td>2</td>\n",
       "      <td>1</td>\n",
       "      <td>-73.979027</td>\n",
       "      <td>40.763939</td>\n",
       "      <td>-74.005333</td>\n",
       "      <td>40.710087</td>\n",
       "      <td>False</td>\n",
       "      <td>2124.0</td>\n",
       "      <td>11</td>\n",
       "      <td>1</td>\n",
       "      <td>1</td>\n",
       "    </tr>\n",
       "    <tr>\n",
       "      <th>3</th>\n",
       "      <td>id3504673</td>\n",
       "      <td>2</td>\n",
       "      <td>1</td>\n",
       "      <td>-74.010040</td>\n",
       "      <td>40.719971</td>\n",
       "      <td>-74.012268</td>\n",
       "      <td>40.706718</td>\n",
       "      <td>False</td>\n",
       "      <td>429.0</td>\n",
       "      <td>19</td>\n",
       "      <td>2</td>\n",
       "      <td>4</td>\n",
       "    </tr>\n",
       "    <tr>\n",
       "      <th>4</th>\n",
       "      <td>id2181028</td>\n",
       "      <td>2</td>\n",
       "      <td>1</td>\n",
       "      <td>-73.973053</td>\n",
       "      <td>40.793209</td>\n",
       "      <td>-73.972923</td>\n",
       "      <td>40.782520</td>\n",
       "      <td>False</td>\n",
       "      <td>435.0</td>\n",
       "      <td>13</td>\n",
       "      <td>5</td>\n",
       "      <td>3</td>\n",
       "    </tr>\n",
       "  </tbody>\n",
       "</table>\n",
       "</div>"
      ],
      "text/plain": [
       "          id vendor_id  passenger_count  pickup_longitude  pickup_latitude   \n",
       "0  id2875421         2                1        -73.982155        40.767937  \\\n",
       "1  id2377394         1                1        -73.980415        40.738564   \n",
       "2  id3858529         2                1        -73.979027        40.763939   \n",
       "3  id3504673         2                1        -74.010040        40.719971   \n",
       "4  id2181028         2                1        -73.973053        40.793209   \n",
       "\n",
       "   dropoff_longitude  dropoff_latitude  store_and_fwd_flag  trip_duration   \n",
       "0         -73.964630         40.765602               False          455.0  \\\n",
       "1         -73.999481         40.731152               False          663.0   \n",
       "2         -74.005333         40.710087               False         2124.0   \n",
       "3         -74.012268         40.706718               False          429.0   \n",
       "4         -73.972923         40.782520               False          435.0   \n",
       "\n",
       "   hour  dayofweek  month  \n",
       "0    17          0      3  \n",
       "1     0          6      6  \n",
       "2    11          1      1  \n",
       "3    19          2      4  \n",
       "4    13          5      3  "
      ]
     },
     "execution_count": 19,
     "metadata": {},
     "output_type": "execute_result"
    }
   ],
   "source": [
    "train_df.head()"
   ]
  },
  {
   "cell_type": "code",
   "execution_count": 20,
   "metadata": {},
   "outputs": [
    {
     "name": "stdout",
     "output_type": "stream",
     "text": [
      "<class 'pandas.core.frame.DataFrame'>\n",
      "RangeIndex: 924334 entries, 0 to 924333\n",
      "Data columns (total 12 columns):\n",
      " #   Column              Non-Null Count   Dtype   \n",
      "---  ------              --------------   -----   \n",
      " 0   id                  924334 non-null  object  \n",
      " 1   vendor_id           924334 non-null  category\n",
      " 2   passenger_count     924334 non-null  int64   \n",
      " 3   pickup_longitude    924334 non-null  float64 \n",
      " 4   pickup_latitude     924334 non-null  float64 \n",
      " 5   dropoff_longitude   924334 non-null  float64 \n",
      " 6   dropoff_latitude    924334 non-null  float64 \n",
      " 7   store_and_fwd_flag  924334 non-null  bool    \n",
      " 8   trip_duration       924334 non-null  float64 \n",
      " 9   hour                924334 non-null  int32   \n",
      " 10  dayofweek           924334 non-null  int32   \n",
      " 11  month               924334 non-null  int32   \n",
      "dtypes: bool(1), category(1), float64(5), int32(3), int64(1), object(1)\n",
      "memory usage: 61.7+ MB\n"
     ]
    }
   ],
   "source": [
    "train_df.info()"
   ]
  },
  {
   "cell_type": "code",
   "execution_count": 21,
   "metadata": {},
   "outputs": [],
   "source": [
    "def haversine_distance(lat1, lon1, lat2, lon2):\n",
    "    \"\"\"\n",
    "    Calculate the great circle distance between two points \n",
    "    on the earth (specified in decimal degrees)\n",
    "    \"\"\"\n",
    "    # Convert decimal degrees to radians\n",
    "    lon1, lat1, lon2, lat2 = map(radians, [lon1, lat1, lon2, lat2])\n",
    "\n",
    "    # Haversine formula\n",
    "    dlon = lon2 - lon1 \n",
    "    dlat = lat2 - lat1 \n",
    "    a = sin(dlat/2)**2 + cos(lat1) * cos(lat2) * sin(dlon/2)**2\n",
    "    c = 2 * asin(sqrt(a)) \n",
    "    r = 6371 # Radius of earth in kilometers. Use 3956 for miles\n",
    "    return c * r\n"
   ]
  },
  {
   "cell_type": "code",
   "execution_count": 22,
   "metadata": {},
   "outputs": [],
   "source": [
    "train_df['distance'] = train_df.apply(lambda row: haversine_distance(row['pickup_latitude'], row['pickup_longitude'], row['dropoff_latitude'], row['dropoff_longitude']), axis=1)"
   ]
  },
  {
   "cell_type": "code",
   "execution_count": 23,
   "metadata": {},
   "outputs": [],
   "source": [
    "train_df['speed'] = (train_df['distance'] / train_df['trip_duration']) * 60 * 60"
   ]
  },
  {
   "cell_type": "code",
   "execution_count": 24,
   "metadata": {},
   "outputs": [],
   "source": [
    "train_df['is_weekend'] = np.where((train_df['dayofweek'] == 5) | (train_df['dayofweek'] == 6), 1, 0)\n",
    "train_df['is_weekend'] = train_df['is_weekend'].astype('bool')\n",
    "train_df = train_df.drop('dayofweek', axis = 1)"
   ]
  },
  {
   "cell_type": "code",
   "execution_count": 25,
   "metadata": {},
   "outputs": [
    {
     "name": "stderr",
     "output_type": "stream",
     "text": [
      "C:\\Users\\o.gezerli\\OneDrive - FlixBus GmbH (B2E B2B) - Prod\\Desktop\\code_projects\\nyc_taxi_trip_duration_python\\nyc_taxi_trip_duration\\.env\\Lib\\site-packages\\sklearn\\cluster\\_kmeans.py:870: FutureWarning: The default value of `n_init` will change from 10 to 'auto' in 1.4. Set the value of `n_init` explicitly to suppress the warning\n",
      "  warnings.warn(\n"
     ]
    }
   ],
   "source": [
    "kmeans = KMeans(n_clusters = 100, random_state = 42)\n",
    "pickup_clusters = kmeans.fit_predict(train_df[['pickup_latitude', 'pickup_longitude']])\n",
    "train_df['pickup_cluster'] = pickup_clusters"
   ]
  },
  {
   "cell_type": "code",
   "execution_count": 26,
   "metadata": {},
   "outputs": [
    {
     "data": {
      "text/html": [
       "<div>\n",
       "<style scoped>\n",
       "    .dataframe tbody tr th:only-of-type {\n",
       "        vertical-align: middle;\n",
       "    }\n",
       "\n",
       "    .dataframe tbody tr th {\n",
       "        vertical-align: top;\n",
       "    }\n",
       "\n",
       "    .dataframe thead th {\n",
       "        text-align: right;\n",
       "    }\n",
       "</style>\n",
       "<table border=\"1\" class=\"dataframe\">\n",
       "  <thead>\n",
       "    <tr style=\"text-align: right;\">\n",
       "      <th></th>\n",
       "      <th>id</th>\n",
       "      <th>vendor_id</th>\n",
       "      <th>passenger_count</th>\n",
       "      <th>pickup_longitude</th>\n",
       "      <th>pickup_latitude</th>\n",
       "      <th>dropoff_longitude</th>\n",
       "      <th>dropoff_latitude</th>\n",
       "      <th>store_and_fwd_flag</th>\n",
       "      <th>trip_duration</th>\n",
       "      <th>hour</th>\n",
       "      <th>month</th>\n",
       "      <th>distance</th>\n",
       "      <th>speed</th>\n",
       "      <th>is_weekend</th>\n",
       "      <th>pickup_cluster</th>\n",
       "    </tr>\n",
       "  </thead>\n",
       "  <tbody>\n",
       "    <tr>\n",
       "      <th>0</th>\n",
       "      <td>id2875421</td>\n",
       "      <td>2</td>\n",
       "      <td>1</td>\n",
       "      <td>-73.982155</td>\n",
       "      <td>40.767937</td>\n",
       "      <td>-73.964630</td>\n",
       "      <td>40.765602</td>\n",
       "      <td>False</td>\n",
       "      <td>455.0</td>\n",
       "      <td>17</td>\n",
       "      <td>3</td>\n",
       "      <td>1.498521</td>\n",
       "      <td>11.856428</td>\n",
       "      <td>False</td>\n",
       "      <td>29</td>\n",
       "    </tr>\n",
       "    <tr>\n",
       "      <th>1</th>\n",
       "      <td>id2377394</td>\n",
       "      <td>1</td>\n",
       "      <td>1</td>\n",
       "      <td>-73.980415</td>\n",
       "      <td>40.738564</td>\n",
       "      <td>-73.999481</td>\n",
       "      <td>40.731152</td>\n",
       "      <td>False</td>\n",
       "      <td>663.0</td>\n",
       "      <td>0</td>\n",
       "      <td>6</td>\n",
       "      <td>1.805507</td>\n",
       "      <td>9.803659</td>\n",
       "      <td>True</td>\n",
       "      <td>90</td>\n",
       "    </tr>\n",
       "    <tr>\n",
       "      <th>2</th>\n",
       "      <td>id3858529</td>\n",
       "      <td>2</td>\n",
       "      <td>1</td>\n",
       "      <td>-73.979027</td>\n",
       "      <td>40.763939</td>\n",
       "      <td>-74.005333</td>\n",
       "      <td>40.710087</td>\n",
       "      <td>False</td>\n",
       "      <td>2124.0</td>\n",
       "      <td>11</td>\n",
       "      <td>1</td>\n",
       "      <td>6.385098</td>\n",
       "      <td>10.822201</td>\n",
       "      <td>False</td>\n",
       "      <td>69</td>\n",
       "    </tr>\n",
       "    <tr>\n",
       "      <th>3</th>\n",
       "      <td>id3504673</td>\n",
       "      <td>2</td>\n",
       "      <td>1</td>\n",
       "      <td>-74.010040</td>\n",
       "      <td>40.719971</td>\n",
       "      <td>-74.012268</td>\n",
       "      <td>40.706718</td>\n",
       "      <td>False</td>\n",
       "      <td>429.0</td>\n",
       "      <td>19</td>\n",
       "      <td>4</td>\n",
       "      <td>1.485498</td>\n",
       "      <td>12.465721</td>\n",
       "      <td>False</td>\n",
       "      <td>53</td>\n",
       "    </tr>\n",
       "    <tr>\n",
       "      <th>4</th>\n",
       "      <td>id2181028</td>\n",
       "      <td>2</td>\n",
       "      <td>1</td>\n",
       "      <td>-73.973053</td>\n",
       "      <td>40.793209</td>\n",
       "      <td>-73.972923</td>\n",
       "      <td>40.782520</td>\n",
       "      <td>False</td>\n",
       "      <td>435.0</td>\n",
       "      <td>13</td>\n",
       "      <td>3</td>\n",
       "      <td>1.188588</td>\n",
       "      <td>9.836594</td>\n",
       "      <td>True</td>\n",
       "      <td>15</td>\n",
       "    </tr>\n",
       "  </tbody>\n",
       "</table>\n",
       "</div>"
      ],
      "text/plain": [
       "          id vendor_id  passenger_count  pickup_longitude  pickup_latitude   \n",
       "0  id2875421         2                1        -73.982155        40.767937  \\\n",
       "1  id2377394         1                1        -73.980415        40.738564   \n",
       "2  id3858529         2                1        -73.979027        40.763939   \n",
       "3  id3504673         2                1        -74.010040        40.719971   \n",
       "4  id2181028         2                1        -73.973053        40.793209   \n",
       "\n",
       "   dropoff_longitude  dropoff_latitude  store_and_fwd_flag  trip_duration   \n",
       "0         -73.964630         40.765602               False          455.0  \\\n",
       "1         -73.999481         40.731152               False          663.0   \n",
       "2         -74.005333         40.710087               False         2124.0   \n",
       "3         -74.012268         40.706718               False          429.0   \n",
       "4         -73.972923         40.782520               False          435.0   \n",
       "\n",
       "   hour  month  distance      speed  is_weekend  pickup_cluster  \n",
       "0    17      3  1.498521  11.856428       False              29  \n",
       "1     0      6  1.805507   9.803659        True              90  \n",
       "2    11      1  6.385098  10.822201       False              69  \n",
       "3    19      4  1.485498  12.465721       False              53  \n",
       "4    13      3  1.188588   9.836594        True              15  "
      ]
     },
     "execution_count": 26,
     "metadata": {},
     "output_type": "execute_result"
    }
   ],
   "source": [
    "train_df.head()"
   ]
  },
  {
   "cell_type": "code",
   "execution_count": 27,
   "metadata": {},
   "outputs": [],
   "source": [
    "X = train_df.drop(['id', 'trip_duration'], axis = 1)\n",
    "y = train_df['trip_duration']\n",
    "\n",
    "X_train, X_val, y_train, y_val = train_test_split(X, y, test_size = 0.2, random_state = 42)"
   ]
  },
  {
   "cell_type": "code",
   "execution_count": 28,
   "metadata": {},
   "outputs": [],
   "source": [
    "params = {\n",
    "    'max_depth': 8,\n",
    "    'eta': 0.3,\n",
    "    'objective': 'reg:squarederror',\n",
    "    'eval_metric': 'rmse',\n",
    "    'subsample': 0.8,\n",
    "    'colsample_bytree': 0.8,\n",
    "    'silent': 1,\n",
    "    'random_state': 42\n",
    "}\n",
    "\n",
    "dtrain = xgb.DMatrix(X_train, label=y_train, enable_categorical = True)\n",
    "dval = xgb.DMatrix(X_val, label=y_val, enable_categorical = True)\n",
    "\n",
    "watchlist = [(dtrain, 'train'), (dval, 'eval')]"
   ]
  },
  {
   "cell_type": "code",
   "execution_count": 29,
   "metadata": {},
   "outputs": [
    {
     "name": "stdout",
     "output_type": "stream",
     "text": [
      "[16:32:00] WARNING: C:\\buildkite-agent\\builds\\buildkite-windows-cpu-autoscaling-group-i-07593ffd91cd9da33-1\\xgboost\\xgboost-ci-windows\\src\\learner.cc:767: \n",
      "Parameters: { \"silent\" } are not used.\n",
      "\n",
      "[0]\ttrain-rmse:740.98850\teval-rmse:741.00339\n",
      "[1]\ttrain-rmse:526.70121\teval-rmse:526.57727\n",
      "[2]\ttrain-rmse:370.34003\teval-rmse:370.42364\n",
      "[3]\ttrain-rmse:261.26819\teval-rmse:261.48574\n",
      "[4]\ttrain-rmse:189.87603\teval-rmse:190.30386\n",
      "[5]\ttrain-rmse:143.04249\teval-rmse:143.64777\n",
      "[6]\ttrain-rmse:109.60385\teval-rmse:110.52775\n",
      "[7]\ttrain-rmse:89.29621\teval-rmse:90.55515\n",
      "[8]\ttrain-rmse:68.16375\teval-rmse:69.86266\n",
      "[9]\ttrain-rmse:58.14499\teval-rmse:60.56512\n",
      "[10]\ttrain-rmse:48.25371\teval-rmse:51.20242\n",
      "[11]\ttrain-rmse:41.31209\teval-rmse:44.70101\n",
      "[12]\ttrain-rmse:36.31150\teval-rmse:39.91085\n",
      "[13]\ttrain-rmse:35.20264\teval-rmse:39.01651\n",
      "[14]\ttrain-rmse:33.96003\teval-rmse:38.35187\n",
      "[15]\ttrain-rmse:31.50200\teval-rmse:36.25422\n",
      "[16]\ttrain-rmse:29.85511\teval-rmse:34.75725\n",
      "[17]\ttrain-rmse:28.81965\teval-rmse:33.89659\n",
      "[18]\ttrain-rmse:28.04045\teval-rmse:33.24005\n",
      "[19]\ttrain-rmse:27.42846\teval-rmse:32.87731\n",
      "[20]\ttrain-rmse:27.08565\teval-rmse:32.80443\n",
      "[21]\ttrain-rmse:26.48330\teval-rmse:32.53819\n",
      "[22]\ttrain-rmse:25.33369\teval-rmse:31.04280\n",
      "[23]\ttrain-rmse:24.61574\teval-rmse:30.31597\n",
      "[24]\ttrain-rmse:24.08020\teval-rmse:29.91304\n",
      "[25]\ttrain-rmse:23.67832\teval-rmse:29.62196\n",
      "[26]\ttrain-rmse:23.63363\teval-rmse:29.57894\n",
      "[27]\ttrain-rmse:23.35528\teval-rmse:29.59871\n",
      "[28]\ttrain-rmse:23.14334\teval-rmse:29.47521\n",
      "[29]\ttrain-rmse:22.65340\teval-rmse:29.11450\n",
      "[30]\ttrain-rmse:22.56784\teval-rmse:29.08136\n",
      "[31]\ttrain-rmse:22.28679\teval-rmse:28.84952\n",
      "[32]\ttrain-rmse:22.16357\teval-rmse:28.82347\n",
      "[33]\ttrain-rmse:21.93013\teval-rmse:28.66811\n",
      "[34]\ttrain-rmse:21.84500\teval-rmse:28.52383\n",
      "[35]\ttrain-rmse:21.66465\teval-rmse:28.46049\n",
      "[36]\ttrain-rmse:21.59816\teval-rmse:28.42173\n",
      "[37]\ttrain-rmse:21.48543\teval-rmse:28.36634\n",
      "[38]\ttrain-rmse:21.10159\teval-rmse:28.12770\n",
      "[39]\ttrain-rmse:20.95521\teval-rmse:28.16070\n",
      "[40]\ttrain-rmse:20.66420\teval-rmse:27.94069\n",
      "[41]\ttrain-rmse:20.36394\teval-rmse:27.90385\n",
      "[42]\ttrain-rmse:20.12677\teval-rmse:27.74791\n",
      "[43]\ttrain-rmse:19.96246\teval-rmse:27.64950\n",
      "[44]\ttrain-rmse:19.75645\teval-rmse:27.68650\n",
      "[45]\ttrain-rmse:19.51035\teval-rmse:27.53871\n",
      "[46]\ttrain-rmse:19.32596\teval-rmse:27.52602\n",
      "[47]\ttrain-rmse:19.19542\teval-rmse:27.49389\n",
      "[48]\ttrain-rmse:19.06372\teval-rmse:27.44456\n",
      "[49]\ttrain-rmse:18.81107\teval-rmse:27.38606\n",
      "[50]\ttrain-rmse:18.70683\teval-rmse:27.32648\n",
      "[51]\ttrain-rmse:18.66722\teval-rmse:27.31579\n",
      "[52]\ttrain-rmse:18.38647\teval-rmse:27.11600\n",
      "[53]\ttrain-rmse:18.22060\teval-rmse:27.00035\n",
      "[54]\ttrain-rmse:18.14845\teval-rmse:26.94315\n",
      "[55]\ttrain-rmse:18.05781\teval-rmse:26.94889\n",
      "[56]\ttrain-rmse:17.97762\teval-rmse:26.90240\n",
      "[57]\ttrain-rmse:17.96333\teval-rmse:26.88699\n",
      "[58]\ttrain-rmse:17.85785\teval-rmse:26.83133\n",
      "[59]\ttrain-rmse:17.81002\teval-rmse:26.80235\n",
      "[60]\ttrain-rmse:17.71929\teval-rmse:26.73972\n",
      "[61]\ttrain-rmse:17.59599\teval-rmse:26.65491\n",
      "[62]\ttrain-rmse:17.53308\teval-rmse:26.66091\n",
      "[63]\ttrain-rmse:17.50386\teval-rmse:26.63924\n",
      "[64]\ttrain-rmse:17.35105\teval-rmse:26.56142\n",
      "[65]\ttrain-rmse:17.20134\teval-rmse:26.63549\n",
      "[66]\ttrain-rmse:17.10548\teval-rmse:26.58254\n",
      "[67]\ttrain-rmse:16.98364\teval-rmse:26.52624\n",
      "[68]\ttrain-rmse:16.90869\teval-rmse:26.51902\n",
      "[69]\ttrain-rmse:16.74175\teval-rmse:26.41092\n",
      "[70]\ttrain-rmse:16.60472\teval-rmse:26.36816\n",
      "[71]\ttrain-rmse:16.56836\teval-rmse:26.33995\n",
      "[72]\ttrain-rmse:16.38281\teval-rmse:26.22450\n",
      "[73]\ttrain-rmse:16.30234\teval-rmse:26.16942\n",
      "[74]\ttrain-rmse:16.16726\teval-rmse:26.13888\n",
      "[75]\ttrain-rmse:16.08769\teval-rmse:26.13750\n",
      "[76]\ttrain-rmse:16.04072\teval-rmse:26.10930\n",
      "[77]\ttrain-rmse:15.98451\teval-rmse:26.07422\n",
      "[78]\ttrain-rmse:15.87810\teval-rmse:26.02065\n",
      "[79]\ttrain-rmse:15.78704\teval-rmse:25.99066\n",
      "[80]\ttrain-rmse:15.72330\teval-rmse:25.98116\n",
      "[81]\ttrain-rmse:15.70156\teval-rmse:25.98581\n",
      "[82]\ttrain-rmse:15.55343\teval-rmse:25.89755\n",
      "[83]\ttrain-rmse:15.52287\teval-rmse:25.90855\n",
      "[84]\ttrain-rmse:15.45341\teval-rmse:25.87438\n",
      "[85]\ttrain-rmse:15.39178\teval-rmse:25.85531\n",
      "[86]\ttrain-rmse:15.27561\teval-rmse:25.79245\n",
      "[87]\ttrain-rmse:15.26612\teval-rmse:25.78890\n",
      "[88]\ttrain-rmse:15.21258\teval-rmse:25.77168\n",
      "[89]\ttrain-rmse:15.17461\teval-rmse:25.77070\n",
      "[90]\ttrain-rmse:15.07694\teval-rmse:25.72710\n",
      "[91]\ttrain-rmse:15.04470\teval-rmse:25.72028\n",
      "[92]\ttrain-rmse:15.00186\teval-rmse:25.70646\n",
      "[93]\ttrain-rmse:14.94143\teval-rmse:25.65877\n",
      "[94]\ttrain-rmse:14.87117\teval-rmse:25.62585\n",
      "[95]\ttrain-rmse:14.78714\teval-rmse:25.57346\n",
      "[96]\ttrain-rmse:14.76782\teval-rmse:25.56909\n",
      "[97]\ttrain-rmse:14.72908\teval-rmse:25.56346\n",
      "[98]\ttrain-rmse:14.66979\teval-rmse:25.53477\n",
      "[99]\ttrain-rmse:14.58506\teval-rmse:25.54494\n"
     ]
    }
   ],
   "source": [
    "num_boost_round = 100\n",
    "\n",
    "model = xgb.train(\n",
    "    params,\n",
    "    dtrain,\n",
    "    num_boost_round,\n",
    "    evals=watchlist,\n",
    "    early_stopping_rounds=10\n",
    ")"
   ]
  },
  {
   "cell_type": "code",
   "execution_count": 30,
   "metadata": {},
   "outputs": [],
   "source": [
    "y_train_pred = model.predict(dtrain)"
   ]
  },
  {
   "cell_type": "code",
   "execution_count": 31,
   "metadata": {},
   "outputs": [
    {
     "data": {
      "image/png": "[encoded data removed]",
      "text/plain": [
       "<Figure size 640x480 with 1 Axes>"
      ]
     },
     "metadata": {},
     "output_type": "display_data"
    }
   ],
   "source": [
    "residuals = y_train - y_train_pred\n",
    "sns.histplot(residuals, kde=False)\n",
    "plt.show()"
   ]
  },
  {
   "cell_type": "code",
   "execution_count": 32,
   "metadata": {},
   "outputs": [
    {
     "data": {
      "image/png": "[encoded data removed]",
      "text/plain": [
       "<Figure size 640x480 with 1 Axes>"
      ]
     },
     "metadata": {},
     "output_type": "display_data"
    }
   ],
   "source": [
    "import seaborn as sns\n",
    "import matplotlib.pyplot as plt\n",
    "\n",
    "# Adjust the number of bins to make the histogram more readable\n",
    "sns.histplot(residuals, bins=50, kde=True)\n",
    "plt.xlabel('Residuals')\n",
    "plt.ylabel('Frequency')\n",
    "plt.title('Histogram of Residuals')\n",
    "plt.show()\n"
   ]
  },
  {
   "cell_type": "code",
   "execution_count": null,
   "metadata": {},
   "outputs": [],
   "source": []
  }
 ],
 "metadata": {
  "kernelspec": {
   "display_name": ".env",
   "language": "python",
   "name": ".env"
  },
  "language_info": {
   "codemirror_mode": {
    "name": "ipython",
    "version": 3
   },
   "file_extension": ".py",
   "mimetype": "text/x-python",
   "name": "python",
   "nbconvert_exporter": "python",
   "pygments_lexer": "ipython3",
   "version": "3.11.2"
  }
 },
 "nbformat": 4,
 "nbformat_minor": 2
}
